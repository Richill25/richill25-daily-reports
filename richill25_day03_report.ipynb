{
 "cells": [
  {
   "cell_type": "markdown",
   "id": "884f2b78",
   "metadata": {},
   "source": [
    "# String and files"
   ]
  },
  {
   "cell_type": "code",
   "execution_count": 1,
   "id": "59121c1a",
   "metadata": {},
   "outputs": [],
   "source": [
    "string_1= \"will you be at the meeting tonight!\"\n",
    "string_2= '\"Yes\", he replies.'"
   ]
  },
  {
   "cell_type": "code",
   "execution_count": 2,
   "id": "061ae672",
   "metadata": {},
   "outputs": [
    {
     "name": "stdout",
     "output_type": "stream",
     "text": [
      "will you be at the meeting tonight!\n"
     ]
    }
   ],
   "source": [
    "print(string_1)"
   ]
  },
  {
   "cell_type": "code",
   "execution_count": 4,
   "id": "8404d845",
   "metadata": {},
   "outputs": [
    {
     "name": "stdout",
     "output_type": "stream",
     "text": [
      "\"Yes\", he replies.\n"
     ]
    }
   ],
   "source": [
    "print(string_2)"
   ]
  },
  {
   "cell_type": "markdown",
   "id": "51f89b60",
   "metadata": {},
   "source": [
    "# Indexing"
   ]
  },
  {
   "cell_type": "code",
   "execution_count": 7,
   "id": "81858795",
   "metadata": {},
   "outputs": [
    {
     "data": {
      "text/plain": [
       "'w'"
      ]
     },
     "execution_count": 7,
     "metadata": {},
     "output_type": "execute_result"
    }
   ],
   "source": [
    "string_1[0]"
   ]
  },
  {
   "cell_type": "code",
   "execution_count": 6,
   "id": "94405fc8",
   "metadata": {},
   "outputs": [
    {
     "data": {
      "text/plain": [
       "'l'"
      ]
     },
     "execution_count": 6,
     "metadata": {},
     "output_type": "execute_result"
    }
   ],
   "source": [
    "string_1[2]"
   ]
  },
  {
   "cell_type": "code",
   "execution_count": 8,
   "id": "607a6d96",
   "metadata": {},
   "outputs": [
    {
     "name": "stdout",
     "output_type": "stream",
     "text": [
      "The second character of my string is i\n"
     ]
    }
   ],
   "source": [
    "print(\"The second character of my string is\", string_1[1])"
   ]
  },
  {
   "cell_type": "code",
   "execution_count": 9,
   "id": "1158de44",
   "metadata": {},
   "outputs": [
    {
     "name": "stdout",
     "output_type": "stream",
     "text": [
      "The last character of my string is !\n"
     ]
    }
   ],
   "source": [
    "string_1[-1]\n",
    "print(\"The last character of my string is\", string_1[-1])"
   ]
  },
  {
   "cell_type": "markdown",
   "id": "456124a0",
   "metadata": {},
   "source": [
    "# Slicing\n",
    "```python\n",
    "string[start:stop:step]\n",
    "```"
   ]
  },
  {
   "cell_type": "code",
   "execution_count": 15,
   "id": "dc232861",
   "metadata": {},
   "outputs": [
    {
     "name": "stdout",
     "output_type": "stream",
     "text": [
      "will you be at the meeting tonight!\n"
     ]
    },
    {
     "data": {
      "text/plain": [
       "'wl o ea h etn oih!'"
      ]
     },
     "execution_count": 15,
     "metadata": {},
     "output_type": "execute_result"
    }
   ],
   "source": [
    "print(string_1)\n",
    "string_1[::2]"
   ]
  },
  {
   "cell_type": "code",
   "execution_count": 16,
   "id": "f815fcbc",
   "metadata": {},
   "outputs": [
    {
     "data": {
      "text/plain": [
       "35"
      ]
     },
     "execution_count": 16,
     "metadata": {},
     "output_type": "execute_result"
    }
   ],
   "source": [
    "len(string_1)"
   ]
  },
  {
   "cell_type": "markdown",
   "id": "6ae16b22",
   "metadata": {},
   "source": [
    "# Concatenation"
   ]
  },
  {
   "cell_type": "code",
   "execution_count": 20,
   "id": "ce6d416c",
   "metadata": {},
   "outputs": [
    {
     "name": "stdout",
     "output_type": "stream",
     "text": [
      "Hello, World\n"
     ]
    }
   ],
   "source": [
    "my_var_1=\"Hello, \"\n",
    "my_var_2= \"World\"\n",
    "concat=my_var_1+my_var_2\n",
    "print(concat)"
   ]
  },
  {
   "cell_type": "code",
   "execution_count": 23,
   "id": "798cb3c0",
   "metadata": {},
   "outputs": [
    {
     "name": "stdout",
     "output_type": "stream",
     "text": [
      "WorldWorld\n"
     ]
    }
   ],
   "source": [
    "print(2*my_var_2)"
   ]
  },
  {
   "cell_type": "code",
   "execution_count": 5,
   "id": "a5f4e4bf",
   "metadata": {},
   "outputs": [
    {
     "name": "stdout",
     "output_type": "stream",
     "text": [
      "Object `test_method.casefold #compares dtrings regardless of its case` not found.\n"
     ]
    }
   ],
   "source": [
    "test_method= \"four\"\n",
    "?test_method.casefold #compares dtrings regardless of its case\n"
   ]
  },
  {
   "cell_type": "code",
   "execution_count": 6,
   "id": "4863a4fb",
   "metadata": {},
   "outputs": [
    {
     "name": "stdout",
     "output_type": "stream",
     "text": [
      "6\n"
     ]
    }
   ],
   "source": [
    "print(test_method.capitalize()) #capitalizes\n"
   ]
  },
  {
   "cell_type": "code",
   "execution_count": 7,
   "id": "5632e18b",
   "metadata": {},
   "outputs": [
    {
     "name": "stdout",
     "output_type": "stream",
     "text": [
      "True\n"
     ]
    }
   ],
   "source": [
    "print(test_method.isprintable()) #returns true if printable"
   ]
  },
  {
   "cell_type": "code",
   "execution_count": 9,
   "id": "cbc44dfc",
   "metadata": {},
   "outputs": [
    {
     "name": "stdout",
     "output_type": "stream",
     "text": [
      "True\n"
     ]
    }
   ],
   "source": [
    "print(test_method.isalnum()) # returns true if string is alphabet or numeric"
   ]
  },
  {
   "cell_type": "code",
   "execution_count": 10,
   "id": "e9198f3b",
   "metadata": {},
   "outputs": [],
   "source": [
    "?test_method.endswith"
   ]
  },
  {
   "cell_type": "code",
   "execution_count": 1,
   "id": "f4cd5545",
   "metadata": {},
   "outputs": [
    {
     "name": "stdout",
     "output_type": "stream",
     "text": [
      "command_mode.png\r\n",
      "diamond\r\n",
      "edit_mode.png\r\n",
      "Emily.png\r\n",
      "menubar_toolbar.png\r\n",
      "PyPro-SCiDaS-day_00_introduction_to_jupyter_notebooks.ipynb\r\n",
      "PyPro-SCiDaS-day_01a_introduction_to_python.ipynb\r\n",
      "PyPro-SCiDaS-day_01b_variables-and-assignment.ipynb\r\n",
      "richill25_day03_report.ipynb\r\n",
      "richill_nyantakyiwaa_PP1.ipynb\r\n",
      "testfile.txt\r\n",
      "Tutorial_1.ipynb\r\n"
     ]
    }
   ],
   "source": [
    "!dir"
   ]
  },
  {
   "cell_type": "code",
   "execution_count": 14,
   "id": "0c8dd2b9",
   "metadata": {},
   "outputs": [],
   "source": [
    "f=open('testfile.txt', 'r')"
   ]
  },
  {
   "cell_type": "code",
   "execution_count": 15,
   "id": "91127f5f",
   "metadata": {},
   "outputs": [
    {
     "data": {
      "text/plain": [
       "_io.TextIOWrapper"
      ]
     },
     "execution_count": 15,
     "metadata": {},
     "output_type": "execute_result"
    }
   ],
   "source": [
    "type(f)"
   ]
  },
  {
   "cell_type": "code",
   "execution_count": 16,
   "id": "df0682ee",
   "metadata": {},
   "outputs": [
    {
     "data": {
      "text/plain": [
       "['Today is Thursday']"
      ]
     },
     "execution_count": 16,
     "metadata": {},
     "output_type": "execute_result"
    }
   ],
   "source": [
    "f.readlines()"
   ]
  },
  {
   "cell_type": "code",
   "execution_count": 17,
   "id": "351c7c9f",
   "metadata": {},
   "outputs": [
    {
     "data": {
      "text/plain": [
       "<_io.TextIOWrapper name='testfile.txt' mode='r' encoding='UTF-8'>"
      ]
     },
     "execution_count": 17,
     "metadata": {},
     "output_type": "execute_result"
    }
   ],
   "source": [
    "f"
   ]
  },
  {
   "cell_type": "code",
   "execution_count": 18,
   "id": "757b0ae8",
   "metadata": {},
   "outputs": [],
   "source": [
    "f.close()"
   ]
  },
  {
   "cell_type": "code",
   "execution_count": 19,
   "id": "61a28d99",
   "metadata": {},
   "outputs": [],
   "source": [
    "to_write=open('outfile.txt', 'w')\n",
    "to_write.write(\"Today is Thursday\")\n",
    "to_write.close()"
   ]
  },
  {
   "cell_type": "code",
   "execution_count": 20,
   "id": "006b3b7b",
   "metadata": {},
   "outputs": [
    {
     "data": {
      "text/plain": [
       "['Today is Thursday']"
      ]
     },
     "execution_count": 20,
     "metadata": {},
     "output_type": "execute_result"
    }
   ],
   "source": [
    "to_write=open('outfile.txt', 'r')\n",
    "to_write.readlines()"
   ]
  },
  {
   "cell_type": "code",
   "execution_count": null,
   "id": "4632a485",
   "metadata": {},
   "outputs": [],
   "source": [
    "to_write.# press on tab to apply any method on your file."
   ]
  }
 ],
 "metadata": {
  "kernelspec": {
   "display_name": "Python 3",
   "language": "python",
   "name": "python3"
  },
  "language_info": {
   "codemirror_mode": {
    "name": "ipython",
    "version": 3
   },
   "file_extension": ".py",
   "mimetype": "text/x-python",
   "name": "python",
   "nbconvert_exporter": "python",
   "pygments_lexer": "ipython3",
   "version": "3.9.2"
  }
 },
 "nbformat": 4,
 "nbformat_minor": 5
}
