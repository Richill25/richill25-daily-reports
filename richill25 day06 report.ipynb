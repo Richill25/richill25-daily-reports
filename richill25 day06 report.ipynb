{
 "cells": [
  {
   "cell_type": "code",
   "execution_count": 1,
   "id": "4ad0299d",
   "metadata": {},
   "outputs": [
    {
     "name": "stdout",
     "output_type": "stream",
     "text": [
      "27\n",
      "we do not have it\n"
     ]
    }
   ],
   "source": [
    "# if clause\n",
    "a=27\n",
    "print(a)\n",
    "if(a>29):\n",
    "    print(\"we have it\")\n",
    "else:\n",
    "    print(\"we do not have it\")"
   ]
  },
  {
   "cell_type": "markdown",
   "id": "8ba09999",
   "metadata": {},
   "source": [
    "## If ...elif...else"
   ]
  },
  {
   "cell_type": "code",
   "execution_count": 2,
   "id": "3b0502dd",
   "metadata": {},
   "outputs": [
    {
     "name": "stdout",
     "output_type": "stream",
     "text": [
      "x is zero\n"
     ]
    }
   ],
   "source": [
    "x=0\n",
    "if (x>0):\n",
    "    print(\"x is positive\")\n",
    "elif x<0:\n",
    "    print(\"x is negative\")\n",
    "else: \n",
    "    print(\"x is zero\")"
   ]
  },
  {
   "cell_type": "markdown",
   "id": "ef7dbca5",
   "metadata": {},
   "source": [
    "## Nested clauses\n"
   ]
  },
  {
   "cell_type": "code",
   "execution_count": 3,
   "id": "72a2942b",
   "metadata": {},
   "outputs": [
    {
     "name": "stdout",
     "output_type": "stream",
     "text": [
      "a is greater than b\n",
      "the difference is...\n"
     ]
    }
   ],
   "source": [
    "a=15\n",
    "b=10\n",
    "if (a>b):\n",
    "    print(\"a is greater than b\")\n",
    "    if(a-b>5):\n",
    "        print(\"the difference is greater than 5\")\n",
    "    else:\n",
    "        print(\"the difference is less than 5\")\n",
    "else:\n",
    "    print(\"b is greater than a\")"
   ]
  },
  {
   "cell_type": "code",
   "execution_count": 22,
   "id": "7780d612",
   "metadata": {},
   "outputs": [
    {
     "name": "stdout",
     "output_type": "stream",
     "text": [
      "Enter a number for a: 1\n",
      "Enter a number for b: 2\n",
      "Enter a number for c: 1\n",
      "we have a repeated root: -1.0\n"
     ]
    }
   ],
   "source": [
    "import math as m\n",
    "a=int(input(\"Enter a number for a: \"))\n",
    "b=int(input(\"Enter a number for b: \"))  \n",
    "c=int(input(\"Enter a number for c: \"))\n",
    "d=b**2 - 4 * a* c\n",
    "x1=(-b + m.sqrt(d))/2 * a\n",
    "x2=(-b - m.sqrt(d))/2 * a\n",
    "if (d>0):\n",
    "    print(\"we have real distinct roots:\", x1, x2)\n",
    "elif (d==0):\n",
    "    print(\"we have a repeated root:\", x1)\n",
    "else:\n",
    "    print(\"we have complex roots\")\n",
    "    \n"
   ]
  },
  {
   "cell_type": "markdown",
   "id": "50153d68",
   "metadata": {},
   "source": [
    "## while and for loops"
   ]
  },
  {
   "cell_type": "code",
   "execution_count": 23,
   "id": "9208ab05",
   "metadata": {},
   "outputs": [
    {
     "name": "stdout",
     "output_type": "stream",
     "text": [
      "The value of i is  1\n",
      "The value of i is  2\n",
      "The value of i is  3\n",
      "The value of i is  4\n",
      "The value of i is  5\n",
      "The value of i is  6\n",
      "The value of i is  7\n",
      "The value of i is  8\n",
      "The value of i is  9\n"
     ]
    }
   ],
   "source": [
    "i=1\n",
    "while (i<10):\n",
    "    print(\"The value of i is \", i)\n",
    "    i=i+1"
   ]
  },
  {
   "cell_type": "code",
   "execution_count": 24,
   "id": "c09d331f",
   "metadata": {},
   "outputs": [
    {
     "name": "stdout",
     "output_type": "stream",
     "text": [
      "0\n",
      "1\n",
      "2\n",
      "3\n",
      "4\n",
      "5\n",
      "6\n",
      "7\n",
      "8\n",
      "9\n"
     ]
    }
   ],
   "source": [
    "n=10\n",
    "for i in range(n):\n",
    "    print(i)\n"
   ]
  },
  {
   "cell_type": "code",
   "execution_count": 25,
   "id": "b035dee3",
   "metadata": {},
   "outputs": [
    {
     "name": "stdout",
     "output_type": "stream",
     "text": [
      "Try again\n",
      "we found it\n",
      "Try again\n",
      "Try again\n"
     ]
    }
   ],
   "source": [
    "list_forif=(3,5,\"hello\",98)\n",
    "for i in list_forif:\n",
    "    if i==5:\n",
    "        print(\"we found it\")\n",
    "    else:\n",
    "        print(\"Try again\")"
   ]
  },
  {
   "cell_type": "code",
   "execution_count": 34,
   "id": "6459832b",
   "metadata": {},
   "outputs": [
    {
     "name": "stdout",
     "output_type": "stream",
     "text": [
      "The letter H is a consonant\n",
      "The letter e is a vowel\n",
      "The letter l is a consonant\n",
      "The letter l is a consonant\n",
      "The letter o is a vowel\n",
      "This is a likely space or full stop\n",
      "The letter N is a consonant\n",
      "The letter o is a vowel\n",
      "The letter b is a consonant\n",
      "The letter i is a vowel\n",
      "The letter l is a consonant\n",
      "The letter i is a vowel\n",
      "The letter s is a consonant\n",
      "This is a likely space or full stop\n"
     ]
    }
   ],
   "source": [
    "sentence=\"Hello Nobilis.\"\n",
    "for letter in sentence:\n",
    "    if letter in \"AEOIUaeoiu\":\n",
    "        print(\"The letter\", letter, \"is a vowel\")\n",
    "    elif letter==\" \" or letter==\".\":\n",
    "        print(\"This is a likely space or full stop\")\n",
    "    else:\n",
    "        print(\"The letter\", letter, \"is a consonant\")"
   ]
  }
 ],
 "metadata": {
  "kernelspec": {
   "display_name": "Python 3",
   "language": "python",
   "name": "python3"
  },
  "language_info": {
   "codemirror_mode": {
    "name": "ipython",
    "version": 3
   },
   "file_extension": ".py",
   "mimetype": "text/x-python",
   "name": "python",
   "nbconvert_exporter": "python",
   "pygments_lexer": "ipython3",
   "version": "3.9.2"
  }
 },
 "nbformat": 4,
 "nbformat_minor": 5
}
